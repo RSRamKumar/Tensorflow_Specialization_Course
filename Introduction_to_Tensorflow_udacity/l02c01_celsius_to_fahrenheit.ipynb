{
  "nbformat": 4,
  "nbformat_minor": 0,
  "metadata": {
    "colab": {
      "name": "l02c01_celsius_to_fahrenheit.ipynb",
      "provenance": [],
      "collapsed_sections": []
    },
    "kernelspec": {
      "display_name": "Python 3",
      "name": "python3"
    }
  },
  "cells": [
    {
      "cell_type": "markdown",
      "metadata": {
        "id": "HnKx50tv5aZD"
      },
      "source": [
        "##### Copyright 2018 The TensorFlow Authors."
      ]
    },
    {
      "cell_type": "code",
      "metadata": {
        "cellView": "form",
        "id": "IwtS_OXU5cWG"
      },
      "source": [
        "#@title Licensed under the Apache License, Version 2.0 (the \"License\");\n",
        "# you may not use this file except in compliance with the License.\n",
        "# You may obtain a copy of the License at\n",
        "#\n",
        "# https://www.apache.org/licenses/LICENSE-2.0\n",
        "#\n",
        "# Unless required by applicable law or agreed to in writing, software\n",
        "# distributed under the License is distributed on an \"AS IS\" BASIS,\n",
        "# WITHOUT WARRANTIES OR CONDITIONS OF ANY KIND, either express or implied.\n",
        "# See the License for the specific language governing permissions and\n",
        "# limitations under the License."
      ],
      "execution_count": 1,
      "outputs": []
    },
    {
      "cell_type": "markdown",
      "metadata": {
        "id": "YHI3vyhv5p85"
      },
      "source": [
        "# The Basics: Training Your First Model"
      ]
    },
    {
      "cell_type": "markdown",
      "metadata": {
        "id": "_wJ2E7jV5tN5"
      },
      "source": [
        "<table class=\"tfo-notebook-buttons\" align=\"left\">\n",
        "  <td>\n",
        "    <a target=\"_blank\" href=\"https://colab.research.google.com/github/tensorflow/examples/blob/master/courses/udacity_intro_to_tensorflow_for_deep_learning/l02c01_celsius_to_fahrenheit.ipynb\"><img src=\"https://www.tensorflow.org/images/colab_logo_32px.png\" />Run in Google Colab</a>\n",
        "  </td>\n",
        "  <td>\n",
        "    <a target=\"_blank\" href=\"https://github.com/tensorflow/examples/blob/master/courses/udacity_intro_to_tensorflow_for_deep_learning/l02c01_celsius_to_fahrenheit.ipynb\"><img src=\"https://www.tensorflow.org/images/GitHub-Mark-32px.png\" />View source on GitHub</a>\n",
        "  </td>\n",
        "</table>"
      ]
    },
    {
      "cell_type": "markdown",
      "metadata": {
        "id": "F8YVA_634OFk"
      },
      "source": [
        "Welcome to this Colab where you will train your first Machine Learning model!\n",
        "\n",
        "We'll try to keep things simple here, and only introduce basic concepts. Later Colabs will cover more advanced problems.\n",
        "\n",
        "The problem we will solve is to convert from Celsius to Fahrenheit, where the approximate formula is:\n",
        "\n",
        "$$ f = c \\times 1.8 + 32 $$\n",
        "\n",
        "\n",
        "Of course, it would be simple enough to create a conventional Python function that directly performs this calculation, but that wouldn't be machine learning.\n",
        "\n",
        "\n",
        "Instead, we will give TensorFlow some sample Celsius values (0, 8, 15, 22, 38) and their corresponding Fahrenheit values (32, 46, 59, 72, 100).\n",
        "Then, we will train a model that figures out the above formula through the training process."
      ]
    },
    {
      "cell_type": "markdown",
      "metadata": {
        "id": "fA93WUy1zzWf"
      },
      "source": [
        "## Import dependencies\n",
        "\n",
        "First, import TensorFlow. Here, we're calling it `tf` for ease of use. We also tell it to only display errors.\n",
        "\n",
        "Next, import [NumPy](http://www.numpy.org/) as `np`. Numpy helps us to represent our data as highly performant lists."
      ]
    },
    {
      "cell_type": "code",
      "metadata": {
        "id": "-ZMgCvSRFqxE"
      },
      "source": [
        "import tensorflow as tf"
      ],
      "execution_count": 2,
      "outputs": []
    },
    {
      "cell_type": "code",
      "metadata": {
        "id": "y_WQEM5MGmg3"
      },
      "source": [
        "import numpy as np\n",
        "import logging\n",
        "logger = tf.get_logger()\n",
        "logger.setLevel(logging.ERROR)"
      ],
      "execution_count": 3,
      "outputs": []
    },
    {
      "cell_type": "markdown",
      "metadata": {
        "id": "AC3EQFi20buB"
      },
      "source": [
        "## Set up training data\n",
        "\n",
        "As we saw before, supervised Machine Learning is all about figuring out an algorithm given a set of inputs and outputs. Since the task in this Codelab is to create a model that can give the temperature in Fahrenheit when given the degrees in Celsius, we create two lists `celsius_q` and `fahrenheit_a` that we can use to train our model."
      ]
    },
    {
      "cell_type": "code",
      "metadata": {
        "id": "gg4pn6aI1vms",
        "colab": {
          "base_uri": "https://localhost:8080/"
        },
        "outputId": "726c70c0-a550-4e2b-f689-9c421a38cfce"
      },
      "source": [
        "celsius_q    = np.array([-40, -10,  0,  8, 15, 22,  38],  dtype=float)\n",
        "fahrenheit_a = np.array([-40,  14, 32, 46, 59, 72, 100],  dtype=float)\n",
        "\n",
        "for i,c in enumerate(celsius_q):\n",
        "  print(\"{} degrees Celsius = {} degrees Fahrenheit\".format(c, fahrenheit_a[i]))"
      ],
      "execution_count": 4,
      "outputs": [
        {
          "output_type": "stream",
          "text": [
            "-40.0 degrees Celsius = -40.0 degrees Fahrenheit\n",
            "-10.0 degrees Celsius = 14.0 degrees Fahrenheit\n",
            "0.0 degrees Celsius = 32.0 degrees Fahrenheit\n",
            "8.0 degrees Celsius = 46.0 degrees Fahrenheit\n",
            "15.0 degrees Celsius = 59.0 degrees Fahrenheit\n",
            "22.0 degrees Celsius = 72.0 degrees Fahrenheit\n",
            "38.0 degrees Celsius = 100.0 degrees Fahrenheit\n"
          ],
          "name": "stdout"
        }
      ]
    },
    {
      "cell_type": "markdown",
      "metadata": {
        "id": "wwJGmDrQ0EoB"
      },
      "source": [
        "### Some Machine Learning terminology\n",
        "\n",
        " - **Feature** — The input(s) to our model. In this case, a single value — the degrees in Celsius.\n",
        "\n",
        " - **Labels** — The output our model predicts. In this case, a single value — the degrees in Fahrenheit.\n",
        "\n",
        " - **Example** — A pair of inputs/outputs used during training. In our case a pair of values from `celsius_q` and `fahrenheit_a` at a specific index, such as `(22,72)`.\n"
      ]
    },
    {
      "cell_type": "markdown",
      "metadata": {
        "id": "VM7_9Klvq7MO"
      },
      "source": [
        "## Create the model\n",
        "\n",
        "Next, create the model. We will use the simplest possible model we can, a Dense network. Since the problem is straightforward, this network will require only a single layer, with a single neuron.\n",
        "\n",
        "### Build a layer\n",
        "\n",
        "We'll call the layer `l0` and create it by instantiating `tf.keras.layers.Dense` with the following configuration:\n",
        "\n",
        "*   `input_shape=[1]` — This specifies that the input to this layer is a single value. That is, the shape is a one-dimensional array with one member. Since this is the first (and only) layer, that input shape is the input shape of the entire model. The single value is a floating point number, representing degrees Celsius.\n",
        "\n",
        "*   `units=1` — This specifies the number of neurons in the layer. The number of neurons defines how many internal variables the layer has to try to learn how to solve the problem (more later). Since this is the final layer, it is also the size of the model's output — a single float value representing degrees Fahrenheit. (In a multi-layered network, the size and shape of the layer would need to match the `input_shape` of the next layer.)\n"
      ]
    },
    {
      "cell_type": "code",
      "metadata": {
        "id": "pRllo2HLfXiu"
      },
      "source": [
        "l0 = tf.keras.layers.Dense(units=1, input_shape=[1])"
      ],
      "execution_count": 5,
      "outputs": []
    },
    {
      "cell_type": "markdown",
      "metadata": {
        "id": "_F00_J9duLBD"
      },
      "source": [
        "### Assemble layers into the model\n",
        "\n",
        "Once layers are defined, they need to be assembled into a model. The Sequential model definition takes a list of layers as an argument, specifying the calculation order from the input to the output.\n",
        "\n",
        "This model has just a single layer, l0."
      ]
    },
    {
      "cell_type": "code",
      "metadata": {
        "id": "cSp-GpLSuMRq"
      },
      "source": [
        "model = tf.keras.Sequential([l0])"
      ],
      "execution_count": 6,
      "outputs": []
    },
    {
      "cell_type": "markdown",
      "metadata": {
        "id": "t7pfHfWxust0"
      },
      "source": [
        "**Note**\n",
        "\n",
        "You will often see the layers defined inside the model definition, rather than beforehand:\n",
        "\n",
        "```python\n",
        "model = tf.keras.Sequential([\n",
        "  tf.keras.layers.Dense(units=1, input_shape=[1])\n",
        "])\n",
        "```"
      ]
    },
    {
      "cell_type": "markdown",
      "metadata": {
        "id": "kiZG7uhm8qCF"
      },
      "source": [
        "## Compile the model, with loss and optimizer functions\n",
        "\n",
        "Before training, the model has to be compiled. When compiled for training, the model is given:\n",
        "\n",
        "- **Loss function** — A way of measuring how far off predictions are from the desired outcome. (The measured difference is called the \"loss\".)\n",
        "\n",
        "- **Optimizer function** — A way of adjusting internal values in order to reduce the loss.\n"
      ]
    },
    {
      "cell_type": "code",
      "metadata": {
        "id": "m8YQN1H41L-Y"
      },
      "source": [
        "model.compile(loss='mean_squared_error',\n",
        "              optimizer=tf.keras.optimizers.Adam(0.1))"
      ],
      "execution_count": 7,
      "outputs": []
    },
    {
      "cell_type": "markdown",
      "metadata": {
        "id": "17M3Pqv4P52R"
      },
      "source": [
        "These are used during training (`model.fit()`, below) to first calculate the loss at each point, and then improve it. In fact, the act of calculating the current loss of a model and then improving it is precisely what training is.\n",
        "\n",
        "During training, the optimizer function is used to calculate adjustments to the model's internal variables. The goal is to adjust the internal variables until the model (which is really a math function) mirrors the actual equation for converting Celsius to Fahrenheit.\n",
        "\n",
        "TensorFlow uses numerical analysis to perform this tuning, and all this complexity is hidden from you so we will not go into the details here. What is useful to know about these parameters are:\n",
        "\n",
        "The loss function ([mean squared error](https://en.wikipedia.org/wiki/Mean_squared_error)) and the optimizer ([Adam](https://machinelearningmastery.com/adam-optimization-algorithm-for-deep-learning/)) used here are standard for simple models like this one, but many others are available. It is not important to know how these specific functions work at this point.\n",
        "\n",
        "One part of the Optimizer you may need to think about when building your own models is the learning rate (`0.1` in the code above). This is the step size taken when adjusting values in the model. If the value is too small, it will take too many iterations to train the model. Too large, and accuracy goes down. Finding a good value often involves some trial and error, but the range is usually within 0.001 (default), and 0.1"
      ]
    },
    {
      "cell_type": "markdown",
      "metadata": {
        "id": "c-Jk4dG91dvD"
      },
      "source": [
        "## Train the model\n",
        "\n",
        "Train the model by calling the `fit` method.\n",
        "\n",
        "During training, the model takes in Celsius values, performs a calculation using the current internal variables (called \"weights\") and outputs values which are meant to be the Fahrenheit equivalent. Since the weights are initially set randomly, the output will not be close to the correct value. The difference between the actual output and the desired output is calculated using the loss function, and the optimizer function directs how the weights should be adjusted.\n",
        "\n",
        "This cycle of calculate, compare, adjust is controlled by the `fit` method. The first argument is the inputs, the second argument is the desired outputs. The `epochs` argument specifies how many times this cycle should be run, and the `verbose` argument controls how much output the method produces."
      ]
    },
    {
      "cell_type": "code",
      "metadata": {
        "id": "lpRrl7WK10Pq",
        "colab": {
          "base_uri": "https://localhost:8080/"
        },
        "outputId": "17a9b348-46c5-455b-899e-6b9e9736a4fa"
      },
      "source": [
        "history = model.fit(celsius_q, fahrenheit_a, epochs=500, verbose=False)\n",
        "print(\"Finished training the model\")"
      ],
      "execution_count": 8,
      "outputs": [
        {
          "output_type": "stream",
          "text": [
            "Finished training the model\n"
          ],
          "name": "stdout"
        }
      ]
    },
    {
      "cell_type": "code",
      "metadata": {
        "id": "VJSNmd-Nx1Xg",
        "colab": {
          "base_uri": "https://localhost:8080/"
        },
        "outputId": "11f349ca-32a0-48d3-93fe-adb2a7302b85"
      },
      "source": [
        "history.history\r\n",
        "#  It is a record of training loss values and metrics values at successive epochs,"
      ],
      "execution_count": 9,
      "outputs": [
        {
          "output_type": "execute_result",
          "data": {
            "text/plain": [
              "{'loss': [1067.443359375,\n",
              "  1022.5152587890625,\n",
              "  989.38330078125,\n",
              "  967.6973876953125,\n",
              "  956.1924438476562,\n",
              "  952.3082885742188,\n",
              "  952.33447265625,\n",
              "  952.4699096679688,\n",
              "  950.16796875,\n",
              "  944.6249389648438,\n",
              "  936.3388671875,\n",
              "  926.4282836914062,\n",
              "  916.1200561523438,\n",
              "  906.4486694335938,\n",
              "  898.0963745117188,\n",
              "  891.3208618164062,\n",
              "  885.9633178710938,\n",
              "  881.5411987304688,\n",
              "  877.4175415039062,\n",
              "  872.9983520507812,\n",
              "  867.8948364257812,\n",
              "  861.9948120117188,\n",
              "  855.4393310546875,\n",
              "  848.5343627929688,\n",
              "  841.6390380859375,\n",
              "  835.0609130859375,\n",
              "  828.98388671875,\n",
              "  823.4352416992188,\n",
              "  818.2994384765625,\n",
              "  813.3703002929688,\n",
              "  808.4240112304688,\n",
              "  803.2880249023438,\n",
              "  797.8857421875,\n",
              "  792.24365234375,\n",
              "  786.4664916992188,\n",
              "  780.6934814453125,\n",
              "  775.0496215820312,\n",
              "  769.60986328125,\n",
              "  764.3829956054688,\n",
              "  759.3175659179688,\n",
              "  754.3284301757812,\n",
              "  749.3283081054688,\n",
              "  744.2576904296875,\n",
              "  739.0997314453125,\n",
              "  733.8802490234375,\n",
              "  728.6510620117188,\n",
              "  723.4692993164062,\n",
              "  718.3758544921875,\n",
              "  713.3836669921875,\n",
              "  708.4778442382812,\n",
              "  703.6245727539062,\n",
              "  698.7864379882812,\n",
              "  693.9364624023438,\n",
              "  689.0662841796875,\n",
              "  684.1859741210938,\n",
              "  679.3181762695312,\n",
              "  674.4864501953125,\n",
              "  669.70703125,\n",
              "  664.9830322265625,\n",
              "  660.3060302734375,\n",
              "  655.6604614257812,\n",
              "  651.0311889648438,\n",
              "  646.4093017578125,\n",
              "  641.7947998046875,\n",
              "  637.1944580078125,\n",
              "  632.6190185546875,\n",
              "  628.0770874023438,\n",
              "  623.5725708007812,\n",
              "  619.1035766601562,\n",
              "  614.6636962890625,\n",
              "  610.2462158203125,\n",
              "  605.8461303710938,\n",
              "  601.4627075195312,\n",
              "  597.09814453125,\n",
              "  592.7572021484375,\n",
              "  588.4436645507812,\n",
              "  584.159423828125,\n",
              "  579.9037475585938,\n",
              "  575.6741333007812,\n",
              "  571.4672241210938,\n",
              "  567.2808227539062,\n",
              "  563.114990234375,\n",
              "  558.9705200195312,\n",
              "  554.8496704101562,\n",
              "  550.75390625,\n",
              "  546.6837768554688,\n",
              "  542.638427734375,\n",
              "  538.6170043945312,\n",
              "  534.6176147460938,\n",
              "  530.6398315429688,\n",
              "  526.6835327148438,\n",
              "  522.7496337890625,\n",
              "  518.8388061523438,\n",
              "  514.9515380859375,\n",
              "  511.0877380371094,\n",
              "  507.24688720703125,\n",
              "  503.42840576171875,\n",
              "  499.6317443847656,\n",
              "  495.8566589355469,\n",
              "  492.10333251953125,\n",
              "  488.3720703125,\n",
              "  484.6631164550781,\n",
              "  480.9765625,\n",
              "  477.3121032714844,\n",
              "  473.66949462890625,\n",
              "  470.04827880859375,\n",
              "  466.4482727050781,\n",
              "  462.86968994140625,\n",
              "  459.31243896484375,\n",
              "  455.776611328125,\n",
              "  452.26226806640625,\n",
              "  448.7693176269531,\n",
              "  445.2973327636719,\n",
              "  441.84637451171875,\n",
              "  438.41619873046875,\n",
              "  435.0066833496094,\n",
              "  431.6180725097656,\n",
              "  428.2500915527344,\n",
              "  424.9028015136719,\n",
              "  421.5761413574219,\n",
              "  418.2699279785156,\n",
              "  414.98394775390625,\n",
              "  411.7182312011719,\n",
              "  408.4726867675781,\n",
              "  405.24725341796875,\n",
              "  402.04193115234375,\n",
              "  398.85638427734375,\n",
              "  395.69091796875,\n",
              "  392.5451354980469,\n",
              "  389.4190368652344,\n",
              "  386.3126525878906,\n",
              "  383.22576904296875,\n",
              "  380.1582946777344,\n",
              "  377.11016845703125,\n",
              "  374.08148193359375,\n",
              "  371.072021484375,\n",
              "  368.08160400390625,\n",
              "  365.1103210449219,\n",
              "  362.1579895019531,\n",
              "  359.2244567871094,\n",
              "  356.3099060058594,\n",
              "  353.41400146484375,\n",
              "  350.5367736816406,\n",
              "  347.6780700683594,\n",
              "  344.837890625,\n",
              "  342.0161437988281,\n",
              "  339.21270751953125,\n",
              "  336.4275817871094,\n",
              "  333.6606750488281,\n",
              "  330.9118347167969,\n",
              "  328.1809387207031,\n",
              "  325.4680480957031,\n",
              "  322.77301025390625,\n",
              "  320.0957336425781,\n",
              "  317.43621826171875,\n",
              "  314.79425048828125,\n",
              "  312.169921875,\n",
              "  309.56298828125,\n",
              "  306.9734191894531,\n",
              "  304.40118408203125,\n",
              "  301.8462219238281,\n",
              "  299.3083801269531,\n",
              "  296.7876281738281,\n",
              "  294.28387451171875,\n",
              "  291.7970886230469,\n",
              "  289.3269958496094,\n",
              "  286.8738098144531,\n",
              "  284.4372253417969,\n",
              "  282.017333984375,\n",
              "  279.61383056640625,\n",
              "  277.2269592285156,\n",
              "  274.85638427734375,\n",
              "  272.50201416015625,\n",
              "  270.16400146484375,\n",
              "  267.8420104980469,\n",
              "  265.53619384765625,\n",
              "  263.2463073730469,\n",
              "  260.9723815917969,\n",
              "  258.7142639160156,\n",
              "  256.4718933105469,\n",
              "  254.24525451660156,\n",
              "  252.0341796875,\n",
              "  249.83863830566406,\n",
              "  247.65853881835938,\n",
              "  245.49386596679688,\n",
              "  243.344482421875,\n",
              "  241.21029663085938,\n",
              "  239.09129333496094,\n",
              "  236.98733520507812,\n",
              "  234.8984375,\n",
              "  232.82443237304688,\n",
              "  230.76527404785156,\n",
              "  228.72091674804688,\n",
              "  226.6912841796875,\n",
              "  224.67617797851562,\n",
              "  222.67576599121094,\n",
              "  220.68980407714844,\n",
              "  218.7181854248047,\n",
              "  216.76095581054688,\n",
              "  214.81788635253906,\n",
              "  212.8890838623047,\n",
              "  210.97438049316406,\n",
              "  209.07376098632812,\n",
              "  207.1870574951172,\n",
              "  205.3142547607422,\n",
              "  203.4552764892578,\n",
              "  201.6100311279297,\n",
              "  199.77845764160156,\n",
              "  197.96055603027344,\n",
              "  196.15609741210938,\n",
              "  194.3651123046875,\n",
              "  192.58753967285156,\n",
              "  190.82325744628906,\n",
              "  189.07223510742188,\n",
              "  187.33438110351562,\n",
              "  185.60963439941406,\n",
              "  183.8979034423828,\n",
              "  182.1991729736328,\n",
              "  180.51327514648438,\n",
              "  178.84017944335938,\n",
              "  177.1798553466797,\n",
              "  175.53221130371094,\n",
              "  173.89720153808594,\n",
              "  172.27474975585938,\n",
              "  170.66476440429688,\n",
              "  169.0670928955078,\n",
              "  167.4818115234375,\n",
              "  165.9087677001953,\n",
              "  164.34786987304688,\n",
              "  162.7991180419922,\n",
              "  161.2624053955078,\n",
              "  159.7377471923828,\n",
              "  158.22494506835938,\n",
              "  156.72398376464844,\n",
              "  155.2347869873047,\n",
              "  153.75735473632812,\n",
              "  152.2915802001953,\n",
              "  150.8373565673828,\n",
              "  149.3945770263672,\n",
              "  147.96328735351562,\n",
              "  146.54336547851562,\n",
              "  145.1347198486328,\n",
              "  143.73731994628906,\n",
              "  142.3511199951172,\n",
              "  140.97604370117188,\n",
              "  139.6120147705078,\n",
              "  138.2589569091797,\n",
              "  136.91683959960938,\n",
              "  135.58544921875,\n",
              "  134.26495361328125,\n",
              "  132.9551544189453,\n",
              "  131.6559600830078,\n",
              "  130.36737060546875,\n",
              "  129.08934020996094,\n",
              "  127.82176208496094,\n",
              "  126.56455993652344,\n",
              "  125.31766510009766,\n",
              "  124.0810546875,\n",
              "  122.85467529296875,\n",
              "  121.63838958740234,\n",
              "  120.43221282958984,\n",
              "  119.23602294921875,\n",
              "  118.04979705810547,\n",
              "  116.87342834472656,\n",
              "  115.70695495605469,\n",
              "  114.55022430419922,\n",
              "  113.40321350097656,\n",
              "  112.26580047607422,\n",
              "  111.13793182373047,\n",
              "  110.0196304321289,\n",
              "  108.9107666015625,\n",
              "  107.81131744384766,\n",
              "  106.7212142944336,\n",
              "  105.64037322998047,\n",
              "  104.56868743896484,\n",
              "  103.50627899169922,\n",
              "  102.452880859375,\n",
              "  101.40853118896484,\n",
              "  100.37318420410156,\n",
              "  99.34673309326172,\n",
              "  98.32916259765625,\n",
              "  97.32035827636719,\n",
              "  96.32032775878906,\n",
              "  95.3289794921875,\n",
              "  94.34624481201172,\n",
              "  93.37207794189453,\n",
              "  92.40648651123047,\n",
              "  91.4493179321289,\n",
              "  90.50053405761719,\n",
              "  89.56007385253906,\n",
              "  88.62793731689453,\n",
              "  87.70396423339844,\n",
              "  86.78824615478516,\n",
              "  85.88057708740234,\n",
              "  84.9809799194336,\n",
              "  84.08943176269531,\n",
              "  83.205810546875,\n",
              "  82.33006286621094,\n",
              "  81.46219635009766,\n",
              "  80.60208892822266,\n",
              "  79.74969482421875,\n",
              "  78.9050064086914,\n",
              "  78.06791687011719,\n",
              "  77.23838806152344,\n",
              "  76.4163818359375,\n",
              "  75.60186767578125,\n",
              "  74.79473876953125,\n",
              "  73.9949951171875,\n",
              "  73.2025375366211,\n",
              "  72.4173355102539,\n",
              "  71.6392822265625,\n",
              "  70.86840057373047,\n",
              "  70.1046371459961,\n",
              "  69.34790802001953,\n",
              "  68.5981674194336,\n",
              "  67.85536193847656,\n",
              "  67.11945343017578,\n",
              "  66.390380859375,\n",
              "  65.66812896728516,\n",
              "  64.9526138305664,\n",
              "  64.2437744140625,\n",
              "  63.541568756103516,\n",
              "  62.845970153808594,\n",
              "  62.15688705444336,\n",
              "  61.47430419921875,\n",
              "  60.798213958740234,\n",
              "  60.12847137451172,\n",
              "  59.46512985229492,\n",
              "  58.80803298950195,\n",
              "  58.157257080078125,\n",
              "  57.51264572143555,\n",
              "  56.874210357666016,\n",
              "  56.24187088012695,\n",
              "  55.61556625366211,\n",
              "  54.99532699584961,\n",
              "  54.38105392456055,\n",
              "  53.77267837524414,\n",
              "  53.17021560668945,\n",
              "  52.57358169555664,\n",
              "  51.98273468017578,\n",
              "  51.39763641357422,\n",
              "  50.8182373046875,\n",
              "  50.244483947753906,\n",
              "  49.67632293701172,\n",
              "  49.113765716552734,\n",
              "  48.55671310424805,\n",
              "  48.005157470703125,\n",
              "  47.45901107788086,\n",
              "  46.91827392578125,\n",
              "  46.38286590576172,\n",
              "  45.85277557373047,\n",
              "  45.32793045043945,\n",
              "  44.80832290649414,\n",
              "  44.29390335083008,\n",
              "  43.78458023071289,\n",
              "  43.28041458129883,\n",
              "  42.78128433227539,\n",
              "  42.287147521972656,\n",
              "  41.79800033569336,\n",
              "  41.31377410888672,\n",
              "  40.83444595336914,\n",
              "  40.35993576049805,\n",
              "  39.89023971557617,\n",
              "  39.425315856933594,\n",
              "  38.96515655517578,\n",
              "  38.50968551635742,\n",
              "  38.05881881713867,\n",
              "  37.61262893676758,\n",
              "  37.170997619628906,\n",
              "  36.73387908935547,\n",
              "  36.30126953125,\n",
              "  35.87310028076172,\n",
              "  35.44940185546875,\n",
              "  35.030052185058594,\n",
              "  34.61507797241211,\n",
              "  34.20437240600586,\n",
              "  33.79798889160156,\n",
              "  33.395782470703125,\n",
              "  32.99782180786133,\n",
              "  32.604007720947266,\n",
              "  32.2143440246582,\n",
              "  31.828746795654297,\n",
              "  31.447208404541016,\n",
              "  31.069704055786133,\n",
              "  30.69618034362793,\n",
              "  30.32659339904785,\n",
              "  29.960947036743164,\n",
              "  29.59916877746582,\n",
              "  29.24123191833496,\n",
              "  28.887136459350586,\n",
              "  28.536794662475586,\n",
              "  28.190244674682617,\n",
              "  27.847383499145508,\n",
              "  27.5081844329834,\n",
              "  27.17262077331543,\n",
              "  26.840715408325195,\n",
              "  26.51236343383789,\n",
              "  26.187564849853516,\n",
              "  25.86630630493164,\n",
              "  25.548480987548828,\n",
              "  25.23416519165039,\n",
              "  24.923254013061523,\n",
              "  24.615732192993164,\n",
              "  24.31156349182129,\n",
              "  24.010723114013672,\n",
              "  23.71319007873535,\n",
              "  23.4189453125,\n",
              "  23.127901077270508,\n",
              "  22.840089797973633,\n",
              "  22.555452346801758,\n",
              "  22.273954391479492,\n",
              "  21.99558448791504,\n",
              "  21.720291137695312,\n",
              "  21.44808006286621,\n",
              "  21.17889404296875,\n",
              "  20.912734985351562,\n",
              "  20.64950180053711,\n",
              "  20.38926887512207,\n",
              "  20.131929397583008,\n",
              "  19.877490997314453,\n",
              "  19.625925064086914,\n",
              "  19.377195358276367,\n",
              "  19.13126564025879,\n",
              "  18.88813591003418,\n",
              "  18.64774513244629,\n",
              "  18.41007423400879,\n",
              "  18.175127029418945,\n",
              "  17.94285011291504,\n",
              "  17.713224411010742,\n",
              "  17.486238479614258,\n",
              "  17.261852264404297,\n",
              "  17.040035247802734,\n",
              "  16.820764541625977,\n",
              "  16.604021072387695,\n",
              "  16.38979148864746,\n",
              "  16.178022384643555,\n",
              "  15.968705177307129,\n",
              "  15.76183795928955,\n",
              "  15.557347297668457,\n",
              "  15.355245590209961,\n",
              "  15.155494689941406,\n",
              "  14.95808219909668,\n",
              "  14.762982368469238,\n",
              "  14.57017993927002,\n",
              "  14.379609107971191,\n",
              "  14.1912841796875,\n",
              "  14.005183219909668,\n",
              "  13.821283340454102,\n",
              "  13.639561653137207,\n",
              "  13.45998477935791,\n",
              "  13.282516479492188,\n",
              "  13.10717487335205,\n",
              "  12.933911323547363,\n",
              "  12.762725830078125,\n",
              "  12.593571662902832,\n",
              "  12.42644214630127,\n",
              "  12.261309623718262,\n",
              "  12.09815788269043,\n",
              "  11.936981201171875,\n",
              "  11.77772045135498,\n",
              "  11.620405197143555,\n",
              "  11.46496868133545,\n",
              "  11.31141471862793,\n",
              "  11.1597318649292,\n",
              "  11.009870529174805,\n",
              "  10.861846923828125,\n",
              "  10.715612411499023,\n",
              "  10.571195602416992,\n",
              "  10.428498268127441,\n",
              "  10.287569046020508,\n",
              "  10.148360252380371,\n",
              "  10.010866165161133,\n",
              "  9.8750638961792,\n",
              "  9.740923881530762,\n",
              "  9.608430862426758,\n",
              "  9.477583885192871,\n",
              "  9.348344802856445,\n",
              "  9.220719337463379,\n",
              "  9.094676971435547,\n",
              "  8.970208168029785,\n",
              "  8.847268104553223,\n",
              "  8.725881576538086,\n",
              "  8.606010437011719,\n",
              "  8.487625122070312,\n",
              "  8.370739936828613,\n",
              "  8.255319595336914,\n",
              "  8.141343116760254,\n",
              "  8.028810501098633,\n",
              "  7.91768217086792,\n",
              "  7.807971954345703,\n",
              "  7.6996378898620605,\n",
              "  7.592687129974365,\n",
              "  7.487085819244385,\n",
              "  7.382828712463379,\n",
              "  7.279903411865234,\n",
              "  7.178294658660889,\n",
              "  7.077972888946533,\n",
              "  6.978949069976807,\n",
              "  6.881186485290527,\n",
              "  6.784668445587158]}"
            ]
          },
          "metadata": {
            "tags": []
          },
          "execution_count": 9
        }
      ]
    },
    {
      "cell_type": "markdown",
      "metadata": {
        "id": "GFcIU2-SdCrI"
      },
      "source": [
        "In later videos, we will go into more detail on what actually happens here and how a Dense layer actually works internally."
      ]
    },
    {
      "cell_type": "markdown",
      "metadata": {
        "id": "0-QsNCLD4MJZ"
      },
      "source": [
        "## Display training statistics\n",
        "\n",
        "The `fit` method returns a history object. We can use this object to plot how the loss of our model goes down after each training epoch. A high loss means that the Fahrenheit degrees the model predicts is far from the corresponding value in `fahrenheit_a`.\n",
        "\n",
        "We'll use [Matplotlib](https://matplotlib.org/) to visualize this (you could use another tool). As you can see, our model improves very quickly at first, and then has a steady, slow improvement until it is very near \"perfect\" towards the end.\n"
      ]
    },
    {
      "cell_type": "code",
      "metadata": {
        "id": "IeK6BzfbdO6_",
        "colab": {
          "base_uri": "https://localhost:8080/",
          "height": 297
        },
        "outputId": "727f3350-c8b0-4d02-a420-d3d0ab4f00a4"
      },
      "source": [
        "import matplotlib.pyplot as plt\n",
        "plt.xlabel('Epoch Number')\n",
        "plt.ylabel(\"Loss Magnitude\")\n",
        "plt.plot(history.history['loss'])"
      ],
      "execution_count": 10,
      "outputs": [
        {
          "output_type": "execute_result",
          "data": {
            "text/plain": [
              "[<matplotlib.lines.Line2D at 0x7f4e1702b6a0>]"
            ]
          },
          "metadata": {
            "tags": []
          },
          "execution_count": 10
        },
        {
          "output_type": "display_data",
          "data": {
            "image/png": "[encoded data removed]",
            "text/plain": [
              "<Figure size 432x288 with 1 Axes>"
            ]
          },
          "metadata": {
            "tags": [],
            "needs_background": "light"
          }
        }
      ]
    },
    {
      "cell_type": "markdown",
      "metadata": {
        "id": "LtQGDMob5LOD"
      },
      "source": [
        "## Use the model to predict values\n",
        "\n",
        "Now you have a model that has been trained to learn the relationship between `celsius_q` and `fahrenheit_a`. You can use the predict method to have it calculate the Fahrenheit degrees for a previously unknown Celsius degrees.\n",
        "\n",
        "So, for example, if the Celsius value is 100, what do you think the Fahrenheit result will be? Take a guess before you run this code."
      ]
    },
    {
      "cell_type": "code",
      "metadata": {
        "id": "oxNzL4lS2Gui",
        "colab": {
          "base_uri": "https://localhost:8080/"
        },
        "outputId": "866eb007-9028-46e8-d720-09ce7f236f3a"
      },
      "source": [
        "print(model.predict([100.0]))"
      ],
      "execution_count": 11,
      "outputs": [
        {
          "output_type": "stream",
          "text": [
            "[[211.33798]]\n"
          ],
          "name": "stdout"
        }
      ]
    },
    {
      "cell_type": "markdown",
      "metadata": {
        "id": "jApk6tZ1fBg1"
      },
      "source": [
        "The correct answer is $100 \\times 1.8 + 32 = 212$, so our model is doing really well.\n",
        "\n",
        "### To review\n",
        "\n",
        "\n",
        "*   We created a model with a Dense layer\n",
        "*   We trained it with 3500 examples (7 pairs, over 500 epochs).\n",
        "\n",
        "Our model tuned the variables (weights) in the Dense layer until it was able to return the correct Fahrenheit value for any Celsius value. (Remember, 100 Celsius was not part of our training data.)\n"
      ]
    },
    {
      "cell_type": "markdown",
      "metadata": {
        "id": "zRrOky5gm20Z"
      },
      "source": [
        "## Looking at the layer weights\n",
        "\n",
        "Finally, let's print the internal variables of the Dense layer. "
      ]
    },
    {
      "cell_type": "code",
      "metadata": {
        "id": "kmIkVdkbnZJI",
        "colab": {
          "base_uri": "https://localhost:8080/"
        },
        "outputId": "ebf52c82-e79c-442d-dd96-3eb3a13b4339"
      },
      "source": [
        "print(\"These are the layer variables: {}\".format(l0.get_weights()))"
      ],
      "execution_count": 12,
      "outputs": [
        {
          "output_type": "stream",
          "text": [
            "These are the layer variables: [array([[1.8201231]], dtype=float32), array([29.32566], dtype=float32)]\n"
          ],
          "name": "stdout"
        }
      ]
    },
    {
      "cell_type": "markdown",
      "metadata": {
        "id": "RSplSnMvnWC-"
      },
      "source": [
        "The first variable is close to ~1.8 and the second to ~32. These values (1.8 and 32) are the actual variables in the real conversion formula.\n",
        "\n",
        "This is really close to the values in the conversion formula. We'll explain this in an upcoming video where we show how a Dense layer works, but for a single neuron with a single input and a single output, the internal math looks the same as [the equation for a line](https://en.wikipedia.org/wiki/Linear_equation#Slope%E2%80%93intercept_form), $y = mx + b$, which has the same form as the conversion equation, $f = 1.8c + 32$.\n",
        "\n",
        "Since the form is the same, the variables should converge on the standard values of 1.8 and 32, which is exactly what happened.\n",
        "\n",
        "With additional neurons, additional inputs, and additional outputs, the formula becomes much more complex, but the idea is the same.\n",
        "\n",
        "### A little experiment\n",
        "\n",
        "Just for fun, what if we created more Dense layers with different units, which therefore also has more variables?"
      ]
    },
    {
      "cell_type": "code",
      "metadata": {
        "id": "Y2zTA-rDS5Xk",
        "colab": {
          "base_uri": "https://localhost:8080/"
        },
        "outputId": "c1056481-8a36-4a2b-d356-d7cb9166cc94"
      },
      "source": [
        "l0 = tf.keras.layers.Dense(units=4, input_shape=[1])\n",
        "l1 = tf.keras.layers.Dense(units=4)\n",
        "l2 = tf.keras.layers.Dense(units=1)\n",
        "model = tf.keras.Sequential([l0, l1, l2])\n",
        "model.compile(loss='mean_squared_error', optimizer=tf.keras.optimizers.Adam(0.1))\n",
        "model.fit(celsius_q, fahrenheit_a, epochs=500, verbose=False)\n",
        "print(\"Finished training the model\")\n",
        "print(model.predict([100.0]))\n",
        "print(\"Model predicts that 100 degrees Celsius is: {} degrees Fahrenheit\".format(model.predict([100.0])))\n",
        "print(\"These are the l0 variables: {}\".format(l0.get_weights()))\n",
        "print(\"These are the l1 variables: {}\".format(l1.get_weights()))\n",
        "print(\"These are the l2 variables: {}\".format(l2.get_weights()))"
      ],
      "execution_count": 13,
      "outputs": [
        {
          "output_type": "stream",
          "text": [
            "Finished training the model\n",
            "[[211.74744]]\n",
            "Model predicts that 100 degrees Celsius is: [[211.74744]] degrees Fahrenheit\n",
            "These are the l0 variables: [array([[-0.27624834,  0.38316604, -0.15384789,  0.29679623]],\n",
            "      dtype=float32), array([-3.6449993 ,  3.8460402 ,  0.11939325,  3.833341  ], dtype=float32)]\n",
            "These are the l1 variables: [array([[-0.21236499,  0.52195305,  1.2191511 , -0.18132775],\n",
            "       [-0.50499225, -0.47610453, -1.1946394 ,  0.44800314],\n",
            "       [-0.6833742 , -1.0003371 , -0.12872258,  0.60157686],\n",
            "       [-0.15812837, -0.26905325, -1.448003  ,  0.42274195]],\n",
            "      dtype=float32), array([ 1.1881881, -1.0787324, -4.061859 , -1.1380215], dtype=float32)]\n",
            "These are the l2 variables: [array([[ 0.15616907],\n",
            "       [-0.1911705 ],\n",
            "       [-1.444251  ],\n",
            "       [ 0.08655695]], dtype=float32), array([3.7035909], dtype=float32)]\n"
          ],
          "name": "stdout"
        }
      ]
    },
    {
      "cell_type": "markdown",
      "metadata": {
        "id": "xrpFFlgYhCty"
      },
      "source": [
        "As you can see, this model is also able to predict the corresponding Fahrenheit value really well. But when you look at the variables (weights) in the `l0` and `l1` layers, they are nothing even close to ~1.8 and ~32. The added complexity hides the \"simple\" form of the conversion equation.\n",
        "\n",
        "Stay tuned for the upcoming video on how Dense layers work for the explanation."
      ]
    }
  ]
}